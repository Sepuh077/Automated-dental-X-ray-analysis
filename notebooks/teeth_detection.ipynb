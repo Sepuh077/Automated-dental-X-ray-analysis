{
 "cells": [
  {
   "cell_type": "code",
   "execution_count": 1,
   "metadata": {},
   "outputs": [
    {
     "data": {
      "text/plain": [
       "'cuda'"
      ]
     },
     "execution_count": 1,
     "metadata": {},
     "output_type": "execute_result"
    }
   ],
   "source": [
    "import torch\n",
    "from torch.utils.data import DataLoader\n",
    "\n",
    "import matplotlib.pyplot as plt\n",
    "from torchsummary import summary\n",
    "\n",
    "from custom_utils import load_full_teeth_data\n",
    "from model import Model\n",
    "from nets import FullTeethModel\n",
    "\n",
    "device = 'cuda' if torch.cuda.is_available() else 'cpu'\n",
    "\n",
    "input_size = (400, 800)\n",
    "\n",
    "device"
   ]
  },
  {
   "cell_type": "code",
   "execution_count": 2,
   "metadata": {},
   "outputs": [
    {
     "name": "stdout",
     "output_type": "stream",
     "text": [
      "----------------------------------------------------------------\n",
      "        Layer (type)               Output Shape         Param #\n",
      "================================================================\n",
      "            Conv2d-1          [-1, 4, 398, 798]              40\n",
      "       BatchNorm2d-2          [-1, 4, 398, 798]               8\n",
      "              ReLU-3          [-1, 4, 398, 798]               0\n",
      "         MaxPool2d-4          [-1, 4, 132, 266]               0\n",
      "            Conv2d-5         [-1, 12, 130, 264]             444\n",
      "       BatchNorm2d-6         [-1, 12, 130, 264]              24\n",
      "              ReLU-7         [-1, 12, 130, 264]               0\n",
      "         MaxPool2d-8           [-1, 12, 43, 88]               0\n",
      "            Conv2d-9           [-1, 36, 41, 86]           3,924\n",
      "      BatchNorm2d-10           [-1, 36, 41, 86]              72\n",
      "             ReLU-11           [-1, 36, 41, 86]               0\n",
      "        MaxPool2d-12           [-1, 36, 20, 43]               0\n",
      "           Conv2d-13          [-1, 128, 18, 41]          41,600\n",
      "      BatchNorm2d-14          [-1, 128, 18, 41]             256\n",
      "          Flatten-15                [-1, 94464]               0\n",
      "           Linear-16                  [-1, 200]      18,893,000\n",
      "             ReLU-17                  [-1, 200]               0\n",
      "           Linear-18                  [-1, 160]          32,160\n",
      "          Softmax-19                  [-1, 160]               0\n",
      "================================================================\n",
      "Total params: 18,971,528\n",
      "Trainable params: 18,971,528\n",
      "Non-trainable params: 0\n",
      "----------------------------------------------------------------\n",
      "Input size (MB): 1.22\n",
      "Forward/backward pass size (MB): 45.23\n",
      "Params size (MB): 72.37\n",
      "Estimated Total Size (MB): 118.82\n",
      "----------------------------------------------------------------\n"
     ]
    },
    {
     "name": "stderr",
     "output_type": "stream",
     "text": [
      "/home/sepuh/workspace/diploma/notebooks/nets.py:198: UserWarning: Implicit dimension choice for softmax has been deprecated. Change the call to include dim=X as an argument.\n",
      "  x = self.softmax( self.d2(x) )\n"
     ]
    }
   ],
   "source": [
    "net = FullTeethModel().to(device)\n",
    "summary(net, input_size=input_size);"
   ]
  },
  {
   "cell_type": "code",
   "execution_count": 3,
   "metadata": {},
   "outputs": [
    {
     "data": {
      "text/plain": [
       "(torch.Size([136, 400, 800]),\n",
       " torch.Size([136, 160]),\n",
       " torch.Size([35, 400, 800]),\n",
       " torch.Size([35, 160]))"
      ]
     },
     "execution_count": 3,
     "metadata": {},
     "output_type": "execute_result"
    }
   ],
   "source": [
    "\n",
    "train_images, train_labels, test_images, test_labels = load_full_teeth_data(image_shape=input_size)\n",
    "\n",
    "train_images.shape, train_labels.shape, test_images.shape, test_labels.shape"
   ]
  },
  {
   "cell_type": "code",
   "execution_count": 4,
   "metadata": {},
   "outputs": [],
   "source": [
    "model = Model(\n",
    "    model=net, \n",
    "    train_input=train_images, \n",
    "    train_label=train_labels,\n",
    "    test_input=test_images,\n",
    "    test_label=test_labels\n",
    ")"
   ]
  },
  {
   "cell_type": "code",
   "execution_count": 7,
   "metadata": {},
   "outputs": [],
   "source": [
    "model.compile(\n",
    "    optimizer=torch.optim.Adam, \n",
    "    lr=0.1,\n",
    "    loss=torch.nn.CrossEntropyLoss()\n",
    ")"
   ]
  },
  {
   "cell_type": "code",
   "execution_count": 8,
   "metadata": {},
   "outputs": [
    {
     "name": "stdout",
     "output_type": "stream",
     "text": [
      "EPOCH [1/100], ====================> 100%, Loss = 4.681489944458008, Accuracy = 0.0\n",
      "Loss = 4.70352, Accuracy = 0.000%\n",
      "Test loss = 4.72756, Test accuracy = 0.000%\n",
      "EPOCH [2/100], ====================> 100%, Loss = 4.677006721496582, Accuracy = 0.0\n",
      "Loss = 4.70352, Accuracy = 0.000%\n",
      "Test loss = 4.72756, Test accuracy = 0.000%\n",
      "EPOCH [3/100], ====================> 100%, Loss = 4.798267841339111, Accuracy = 0.0\n",
      "Loss = 4.70352, Accuracy = 0.000%\n",
      "Test loss = 4.72756, Test accuracy = 0.000%\n",
      "EPOCH [4/100], ====================> 100%, Loss = 4.691518306732178, Accuracy = 0.0\n",
      "Loss = 4.70352, Accuracy = 0.000%\n",
      "Test loss = 4.72756, Test accuracy = 0.000%\n",
      "EPOCH [5/100], ====================> 100%, Loss = 4.683996200561523, Accuracy = 0.0\n",
      "Loss = 4.70352, Accuracy = 0.000%\n",
      "Test loss = 4.72756, Test accuracy = 0.000%\n",
      "EPOCH [6/100], ====================> 100%, Loss = 4.66682243347168, Accuracy = 0.0\n",
      "Loss = 4.70352, Accuracy = 0.000%\n",
      "Test loss = 4.72756, Test accuracy = 0.000%\n",
      "EPOCH [7/100], ====================> 100%, Loss = 4.666192531585693, Accuracy = 0.0\n",
      "Loss = 4.70352, Accuracy = 0.000%\n",
      "Test loss = 4.72756, Test accuracy = 0.000%\n",
      "EPOCH [8/100], ====================> 100%, Loss = 4.684167861938477, Accuracy = 0.0\n",
      "Loss = 4.70352, Accuracy = 0.000%\n",
      "Test loss = 4.72756, Test accuracy = 0.000%\n",
      "EPOCH [9/100], ====================> 100%, Loss = 4.679001808166504, Accuracy = 0.0\n",
      "Loss = 4.70352, Accuracy = 0.000%\n",
      "Test loss = 4.72756, Test accuracy = 0.000%\n",
      "EPOCH [10/100], ====================> 100%, Loss = 4.681352615356445, Accuracy = 0.0\n",
      "Loss = 4.70352, Accuracy = 0.000%\n",
      "Test loss = 4.72756, Test accuracy = 0.000%\n",
      "EPOCH [11/100], ====================> 100%, Loss = 4.663694381713867, Accuracy = 0.0\n",
      "Loss = 4.70352, Accuracy = 0.000%\n",
      "Test loss = 4.72756, Test accuracy = 0.000%\n",
      "EPOCH [12/100], ====================> 100%, Loss = 4.680480480194092, Accuracy = 0.0\n",
      "Loss = 4.70352, Accuracy = 0.000%\n",
      "Test loss = 4.72756, Test accuracy = 0.000%\n",
      "EPOCH [13/100], ====================> 100%, Loss = 4.774227142333984, Accuracy = 0.0\n",
      "Loss = 4.70352, Accuracy = 0.000%\n",
      "Test loss = 4.72756, Test accuracy = 0.000%\n",
      "EPOCH [14/100], ====================> 100%, Loss = 4.67656946182251, Accuracy = 0.0\n",
      "Loss = 4.70352, Accuracy = 0.000%\n",
      "Test loss = 4.72756, Test accuracy = 0.000%\n",
      "EPOCH [15/100], ============> 64%, Loss = 4.691258907318115, Accuracy = 0.0\r"
     ]
    },
    {
     "ename": "KeyboardInterrupt",
     "evalue": "",
     "output_type": "error",
     "traceback": [
      "\u001b[0;31m---------------------------------------------------------------------------\u001b[0m",
      "\u001b[0;31mKeyboardInterrupt\u001b[0m                         Traceback (most recent call last)",
      "Cell \u001b[0;32mIn[8], line 1\u001b[0m\n\u001b[0;32m----> 1\u001b[0m model\u001b[39m.\u001b[39;49mtrain(\n\u001b[1;32m      2\u001b[0m     epochs\u001b[39m=\u001b[39;49m\u001b[39m100\u001b[39;49m,\n\u001b[1;32m      3\u001b[0m     batch_size\u001b[39m=\u001b[39;49m\u001b[39m8\u001b[39;49m\n\u001b[1;32m      4\u001b[0m )\n",
      "File \u001b[0;32m~/workspace/diploma/notebooks/model.py:90\u001b[0m, in \u001b[0;36mModel.train\u001b[0;34m(self, epochs, batch_size)\u001b[0m\n\u001b[1;32m     86\u001b[0m pred \u001b[39m=\u001b[39m \u001b[39mself\u001b[39m\u001b[39m.\u001b[39mmodel(input_data \u001b[39mif\u001b[39;00m \u001b[39mlen\u001b[39m(input_data) \u001b[39m>\u001b[39m \u001b[39m1\u001b[39m \u001b[39melse\u001b[39;00m input_data[\u001b[39m0\u001b[39m])\n\u001b[1;32m     88\u001b[0m loss \u001b[39m=\u001b[39m \u001b[39mself\u001b[39m\u001b[39m.\u001b[39mloss_f(out, pred)\n\u001b[0;32m---> 90\u001b[0m loss\u001b[39m.\u001b[39;49mbackward()\n\u001b[1;32m     91\u001b[0m \u001b[39mself\u001b[39m\u001b[39m.\u001b[39moptimizer\u001b[39m.\u001b[39mstep()\n\u001b[1;32m     92\u001b[0m \u001b[39mself\u001b[39m\u001b[39m.\u001b[39moptimizer\u001b[39m.\u001b[39mzero_grad()\n",
      "File \u001b[0;32m~/workspace/diploma/venv/lib/python3.10/site-packages/torch/_tensor.py:488\u001b[0m, in \u001b[0;36mTensor.backward\u001b[0;34m(self, gradient, retain_graph, create_graph, inputs)\u001b[0m\n\u001b[1;32m    478\u001b[0m \u001b[39mif\u001b[39;00m has_torch_function_unary(\u001b[39mself\u001b[39m):\n\u001b[1;32m    479\u001b[0m     \u001b[39mreturn\u001b[39;00m handle_torch_function(\n\u001b[1;32m    480\u001b[0m         Tensor\u001b[39m.\u001b[39mbackward,\n\u001b[1;32m    481\u001b[0m         (\u001b[39mself\u001b[39m,),\n\u001b[0;32m   (...)\u001b[0m\n\u001b[1;32m    486\u001b[0m         inputs\u001b[39m=\u001b[39minputs,\n\u001b[1;32m    487\u001b[0m     )\n\u001b[0;32m--> 488\u001b[0m torch\u001b[39m.\u001b[39;49mautograd\u001b[39m.\u001b[39;49mbackward(\n\u001b[1;32m    489\u001b[0m     \u001b[39mself\u001b[39;49m, gradient, retain_graph, create_graph, inputs\u001b[39m=\u001b[39;49minputs\n\u001b[1;32m    490\u001b[0m )\n",
      "File \u001b[0;32m~/workspace/diploma/venv/lib/python3.10/site-packages/torch/autograd/__init__.py:197\u001b[0m, in \u001b[0;36mbackward\u001b[0;34m(tensors, grad_tensors, retain_graph, create_graph, grad_variables, inputs)\u001b[0m\n\u001b[1;32m    192\u001b[0m     retain_graph \u001b[39m=\u001b[39m create_graph\n\u001b[1;32m    194\u001b[0m \u001b[39m# The reason we repeat same the comment below is that\u001b[39;00m\n\u001b[1;32m    195\u001b[0m \u001b[39m# some Python versions print out the first line of a multi-line function\u001b[39;00m\n\u001b[1;32m    196\u001b[0m \u001b[39m# calls in the traceback and some print out the last line\u001b[39;00m\n\u001b[0;32m--> 197\u001b[0m Variable\u001b[39m.\u001b[39;49m_execution_engine\u001b[39m.\u001b[39;49mrun_backward(  \u001b[39m# Calls into the C++ engine to run the backward pass\u001b[39;49;00m\n\u001b[1;32m    198\u001b[0m     tensors, grad_tensors_, retain_graph, create_graph, inputs,\n\u001b[1;32m    199\u001b[0m     allow_unreachable\u001b[39m=\u001b[39;49m\u001b[39mTrue\u001b[39;49;00m, accumulate_grad\u001b[39m=\u001b[39;49m\u001b[39mTrue\u001b[39;49;00m)\n",
      "\u001b[0;31mKeyboardInterrupt\u001b[0m: "
     ]
    }
   ],
   "source": [
    "model.train(\n",
    "    epochs=100,\n",
    "    batch_size=8\n",
    ")"
   ]
  },
  {
   "cell_type": "code",
   "execution_count": null,
   "metadata": {},
   "outputs": [],
   "source": [
    "model.draw_plots()"
   ]
  },
  {
   "cell_type": "code",
   "execution_count": null,
   "metadata": {},
   "outputs": [],
   "source": []
  }
 ],
 "metadata": {
  "kernelspec": {
   "display_name": "venv",
   "language": "python",
   "name": "python3"
  },
  "language_info": {
   "codemirror_mode": {
    "name": "ipython",
    "version": 3
   },
   "file_extension": ".py",
   "mimetype": "text/x-python",
   "name": "python",
   "nbconvert_exporter": "python",
   "pygments_lexer": "ipython3",
   "version": "3.10.6"
  },
  "orig_nbformat": 4
 },
 "nbformat": 4,
 "nbformat_minor": 2
}
