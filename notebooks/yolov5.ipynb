{
 "cells": [
  {
   "cell_type": "markdown",
   "metadata": {},
   "source": [
    "Dataset creation"
   ]
  },
  {
   "cell_type": "code",
   "execution_count": null,
   "metadata": {},
   "outputs": [],
   "source": [
    "!python ../notebooks/train_preparing.py -r ../data/full_teeth -d ../datasets/full_teeth"
   ]
  },
  {
   "cell_type": "markdown",
   "metadata": {},
   "source": [
    "YOLOv5 cloning"
   ]
  },
  {
   "cell_type": "code",
   "execution_count": null,
   "metadata": {},
   "outputs": [],
   "source": [
    "!git clone https://github.com/ultralytics/yolov5.git yolov5"
   ]
  },
  {
   "cell_type": "markdown",
   "metadata": {},
   "source": [
    "Training"
   ]
  },
  {
   "cell_type": "code",
   "execution_count": null,
   "metadata": {},
   "outputs": [],
   "source": [
    "# !python yolov5/train.py --data ../datasets/full_teeth/full_teeth.yaml --weights yolov5m.pt --project ../models --name full_teeth_single_class --single-cls --img 800 --rect --exist-ok --epochs 500 --optimizer Adam --hyp ./custom-hyp.yaml"
   ]
  },
  {
   "cell_type": "code",
   "execution_count": null,
   "metadata": {},
   "outputs": [],
   "source": [
    "!python yolov5/train.py --data ../datasets/full_teeth/full_teeth.yaml --weights yolov5m.pt --project ../models --name full_teeth --img 800 --rect --hyp ./hyp-noaug.yaml --exist-ok --epochs 2000 --patience 0"
   ]
  },
  {
   "cell_type": "markdown",
   "metadata": {},
   "source": [
    "Detection"
   ]
  },
  {
   "cell_type": "code",
   "execution_count": null,
   "metadata": {},
   "outputs": [],
   "source": [
    "# !python yolov5/detect.py --weights ../models/full_teeth_single_class/weights/best.pt --source ../data/full_teeth/images --project ../results --name full_teeth_single_class --save-txt --exist-ok --img 800"
   ]
  },
  {
   "cell_type": "markdown",
   "metadata": {},
   "source": [
    "Run labelImg"
   ]
  },
  {
   "cell_type": "code",
   "execution_count": null,
   "metadata": {},
   "outputs": [],
   "source": [
    "!python yolov5/detect.py --weights ../models/full_teeth/weights/best.pt --source ../data/full_teeth/images --project ../results --name full_teeth1 --save-txt --exist-ok --img 800 --save-conf --iou-thres 0 --line-thickness 2"
   ]
  },
  {
   "cell_type": "code",
   "execution_count": null,
   "metadata": {},
   "outputs": [],
   "source": [
    "!python c:\\users\\sepuh\\anaconda3\\envs\\torch\\lib\\site-packages\\labelimg\\labelimg.py"
   ]
  },
  {
   "cell_type": "code",
   "execution_count": null,
   "metadata": {},
   "outputs": [],
   "source": []
  }
 ],
 "metadata": {
  "kernelspec": {
   "display_name": "venv",
   "language": "python",
   "name": "python3"
  },
  "language_info": {
   "codemirror_mode": {
    "name": "ipython",
    "version": 3
   },
   "file_extension": ".py",
   "mimetype": "text/x-python",
   "name": "python",
   "nbconvert_exporter": "python",
   "pygments_lexer": "ipython3",
   "version": "3.10.6"
  },
  "vscode": {
   "interpreter": {
    "hash": "33df882f4233f8cae41ef20dc2bb6a72c0235e53f66198b13114c1721b77f8bb"
   }
  }
 },
 "nbformat": 4,
 "nbformat_minor": 2
}
